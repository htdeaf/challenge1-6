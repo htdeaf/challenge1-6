import numpy as np

temperatures = np.array([18.5, 21.2, 19.8, 22.4, 20.1, 23.0, 19.0])

moyenne = np.mean(temperatures)
mediane = np.median(temperatures)
ecart_type = np.std(temperatures)

print("Moyenne :", moyenne)
print("Médiane :", mediane)
print("Écart-type :", ecart_type)

data = np.array([10, 20, 30, 40, 50])

moy = np.mean(data)
std = np.std(data)

normalised_data = (data - moy) / std

print("Données normalisées :", normalised_data)

a = np.array([1, 2, 3, 4, 5])
b = np.array([1, 2, 0, 4, 6])

indices_diff = np.where(a != b)

print("Indices différents :", indices_diff[0])
print("Valeurs dans a :", a[indices_diff])
print("Valeurs dans b :", b[indices_diff])

valeurs = np.array([5, 15, 25, 8, 30, 12])
seuil = 15

indices = np.where(valeurs > seuil)
valeurs_filtrees = valeurs[indices]

print("Valeurs filtrées :", valeurs_filtrees)
